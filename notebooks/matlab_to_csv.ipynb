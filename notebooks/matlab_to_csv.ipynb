{
 "cells": [
  {
   "cell_type": "code",
   "execution_count": null,
   "id": "initial_id",
   "metadata": {
    "collapsed": true
   },
   "outputs": [],
   "source": [
    "%load_ext autoreload\n",
    "%autoreload 2"
   ]
  },
  {
   "cell_type": "markdown",
   "source": [
    "## Matlab to csv\n",
    "Loads the example matlab data we have and save them as csvs for use in further testing"
   ],
   "metadata": {
    "collapsed": false
   },
   "id": "b662a6da907cd91d"
  },
  {
   "cell_type": "code",
   "execution_count": null,
   "outputs": [],
   "source": [
    "# Load data\n",
    "# TODO - note that we're not interpolating over gaps here\n",
    "from pySPADS.processing.bridge import load_shorecast, load_hindcast, load_SLP\n",
    "\n",
    "shore_df = load_shorecast()\n",
    "hind_df = load_hindcast()\n",
    "pca_df = load_SLP()"
   ],
   "metadata": {
    "collapsed": false
   },
   "id": "1b34651930227ab"
  },
  {
   "cell_type": "code",
   "execution_count": null,
   "outputs": [],
   "source": [
    "shore_df.rename(columns={'y': 'shore'}, inplace=True)"
   ],
   "metadata": {
    "collapsed": false
   },
   "id": "f0dfcb1db9489be1"
  },
  {
   "cell_type": "code",
   "execution_count": null,
   "outputs": [],
   "source": [
    "from pySPADS.processing.bridge import datenum_to_datetime\n",
    "\n",
    "def format_dt(dn):\n",
    "    return datenum_to_datetime(dn).isoformat()"
   ],
   "metadata": {
    "collapsed": false
   },
   "id": "5915e6c10dea761e"
  },
  {
   "cell_type": "code",
   "execution_count": null,
   "outputs": [],
   "source": [
    "# Convert matlab datenums to iso format datetimes\n",
    "shore_df['t'] = list(map(format_dt, shore_df.index))\n",
    "shore_df.set_index('t', inplace=True)\n",
    "\n",
    "hind_df['t'] = list(map(format_dt, hind_df.index))\n",
    "hind_df.set_index('t', inplace=True)\n",
    "\n",
    "pca_df['t'] = list(map(format_dt, pca_df.index))\n",
    "pca_df.set_index('t', inplace=True)"
   ],
   "metadata": {
    "collapsed": false
   },
   "id": "1b46d5e8490f64df"
  },
  {
   "cell_type": "code",
   "execution_count": 40,
   "outputs": [],
   "source": [
    "# Save each to csv\n",
    "import os\n",
    "\n",
    "folder = '../data/separate_files/'\n",
    "os.makedirs(folder, exist_ok=True)\n",
    "\n",
    "shore_df.to_csv(folder + 'shore.csv')\n",
    "hind_df.to_csv(folder + 'hindcast.csv')\n",
    "pca_df.to_csv(folder + 'pca.csv')"
   ],
   "metadata": {
    "collapsed": false,
    "ExecuteTime": {
     "end_time": "2024-01-23T00:47:53.190091600Z",
     "start_time": "2024-01-23T00:47:53.005269700Z"
    }
   },
   "id": "f2bcd8a7e990819b"
  }
 ],
 "metadata": {
  "kernelspec": {
   "display_name": "Python 3",
   "language": "python",
   "name": "python3"
  },
  "language_info": {
   "codemirror_mode": {
    "name": "ipython",
    "version": 2
   },
   "file_extension": ".py",
   "mimetype": "text/x-python",
   "name": "python",
   "nbconvert_exporter": "python",
   "pygments_lexer": "ipython2",
   "version": "2.7.6"
  }
 },
 "nbformat": 4,
 "nbformat_minor": 5
}
