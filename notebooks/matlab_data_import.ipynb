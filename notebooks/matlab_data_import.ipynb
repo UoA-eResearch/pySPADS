{
 "cells": [
  {
   "cell_type": "code",
   "execution_count": null,
   "id": "edc6996e-fb4f-4b11-89fa-3c5b9a88a632",
   "metadata": {},
   "outputs": [],
   "source": [
    "%load_ext autoreload\n",
    "%autoreload 2"
   ]
  },
  {
   "cell_type": "code",
   "execution_count": null,
   "id": "6bda59d4-24d0-498b-9450-86c5e2bd3b22",
   "metadata": {},
   "outputs": [],
   "source": [
    "import numpy as np\n",
    "import matplotlib.pyplot as plt\n",
    "from tqdm import tqdm\n",
    "\n",
    "from pySPADS.processing.bridge import load_data\n",
    "from PyEMD import CEEMDAN, Visualisation\n",
    "\n",
    "tqdm.pandas()"
   ]
  },
  {
   "cell_type": "code",
   "execution_count": null,
   "id": "b7d186a808bc895a",
   "metadata": {
    "collapsed": false
   },
   "outputs": [],
   "source": [
    "combined = load_data()"
   ]
  },
  {
   "cell_type": "code",
   "execution_count": null,
   "id": "e6620c7520bef676",
   "metadata": {
    "collapsed": false
   },
   "outputs": [],
   "source": [
    "combined"
   ]
  },
  {
   "cell_type": "code",
   "execution_count": null,
   "id": "466669539d5ddef3",
   "metadata": {
    "collapsed": false
   },
   "outputs": [],
   "source": [
    "trange = combined.index.max() - combined.index.min()"
   ]
  },
  {
   "cell_type": "markdown",
   "id": "f82007373fe82c37",
   "metadata": {
    "collapsed": false
   },
   "source": [
    "## CEEMD"
   ]
  },
  {
   "cell_type": "code",
   "execution_count": null,
   "id": "69c3712820096d52",
   "metadata": {
    "collapsed": false
   },
   "outputs": [],
   "source": [
    "# TODO - original code interpolates over NaNs in input data, check if we need to do that, or PyEMD is doing it"
   ]
  },
  {
   "cell_type": "code",
   "execution_count": null,
   "id": "db44b9c6b986c0d4",
   "metadata": {
    "collapsed": false
   },
   "outputs": [],
   "source": [
    "# noise\n",
    "ns = np.arange(0.1, 0.5, 0.05)\n",
    "ns = [0.25]\n",
    "\n",
    "# number of ensembles\n",
    "NR = 100"
   ]
  },
  {
   "cell_type": "code",
   "execution_count": null,
   "id": "c9d17f853b3d2b7c",
   "metadata": {
    "collapsed": false
   },
   "outputs": [],
   "source": [
    "# TODO - unclear whether noise should be epsilon, or noise scale\n",
    "ceemd = CEEMDAN(trials=NR, epsilon=ns[0], processes=8, parallel=True)\n",
    "imfs = ceemd.ceemdan(combined[\"y\"].to_numpy(), combined.index.to_numpy(), progress=True)"
   ]
  },
  {
   "cell_type": "code",
   "execution_count": null,
   "id": "b61aceea8ee93aa9",
   "metadata": {
    "collapsed": false
   },
   "outputs": [],
   "source": [
    "assert np.isnan(imfs).sum() == 0, \"NaNs in imfs\""
   ]
  },
  {
   "cell_type": "code",
   "execution_count": null,
   "id": "b56d93876b8494d3",
   "metadata": {
    "collapsed": false
   },
   "outputs": [],
   "source": [
    "imfs.shape"
   ]
  },
  {
   "cell_type": "code",
   "execution_count": null,
   "id": "f97991d4273d05d7",
   "metadata": {
    "collapsed": false
   },
   "outputs": [],
   "source": [
    "# Visualisation - expected output\n",
    "t = combined.index\n",
    "s = combined[\"y\"]\n",
    "\n",
    "plt.plot(t, s)\n",
    "plt.title(\"Shoreline vs. time\")\n",
    "plt.show()"
   ]
  },
  {
   "cell_type": "code",
   "execution_count": null,
   "id": "c69ebd58c9ab1ce9",
   "metadata": {
    "collapsed": false
   },
   "outputs": [],
   "source": [
    "imfs.shape"
   ]
  },
  {
   "cell_type": "code",
   "execution_count": null,
   "id": "c71445aa1a61e7b5",
   "metadata": {
    "collapsed": false
   },
   "outputs": [],
   "source": [
    "freq = np.fft.rfftfreq(len(imfs[8, :]), d=1)"
   ]
  },
  {
   "cell_type": "code",
   "execution_count": null,
   "id": "7fe2bc86630f5e7d",
   "metadata": {
    "collapsed": false
   },
   "outputs": [],
   "source": [
    "x = np.fft.rfft(imfs[2, :])\n",
    "i = np.argmax(abs(x))\n",
    "print(i, freq[i])"
   ]
  },
  {
   "cell_type": "code",
   "execution_count": null,
   "id": "59f9133b174354af",
   "metadata": {
    "collapsed": false
   },
   "outputs": [],
   "source": [
    "plt.plot(abs(x))"
   ]
  },
  {
   "cell_type": "code",
   "execution_count": null,
   "id": "6f28e999bc644d05",
   "metadata": {
    "collapsed": false
   },
   "outputs": [],
   "source": [
    "from pySPADS.processing.significance import maxima"
   ]
  },
  {
   "cell_type": "code",
   "execution_count": null,
   "id": "c20d356cfce99917",
   "metadata": {
    "collapsed": false
   },
   "outputs": [],
   "source": [
    "# Approximate signal frequency - maxima per year\n",
    "for i in range(imfs.shape[0]):\n",
    "    print(i, maxima(imfs[i, :]), 365 * maxima(imfs[i, :]) / trange)"
   ]
  },
  {
   "cell_type": "code",
   "execution_count": null,
   "id": "88fc18ff4fad94df",
   "metadata": {
    "collapsed": false
   },
   "outputs": [],
   "source": [
    "plt.plot(imfs[7, :])"
   ]
  },
  {
   "cell_type": "code",
   "execution_count": null,
   "id": "5dcc9934811b909b",
   "metadata": {
    "collapsed": false
   },
   "outputs": [],
   "source": [
    "Visualisation(ceemd).plot_imfs(imfs, t=combined.index.to_numpy())"
   ]
  },
  {
   "cell_type": "code",
   "execution_count": null,
   "id": "40ce9317fb210210",
   "metadata": {
    "collapsed": false
   },
   "outputs": [],
   "source": [
    "Visualisation(ceemd).plot_instant_freq(range(len(t)))"
   ]
  }
 ],
 "metadata": {
  "kernelspec": {
   "display_name": "Python 3 (ipykernel)",
   "language": "python",
   "name": "python3"
  },
  "language_info": {
   "codemirror_mode": {
    "name": "ipython",
    "version": 3
   },
   "file_extension": ".py",
   "mimetype": "text/x-python",
   "name": "python",
   "nbconvert_exporter": "python",
   "pygments_lexer": "ipython3",
   "version": "3.11.4"
  }
 },
 "nbformat": 4,
 "nbformat_minor": 5
}
