{
 "cells": [
  {
   "cell_type": "code",
   "id": "edc6996e-fb4f-4b11-89fa-3c5b9a88a632",
   "metadata": {},
   "source": [
    "%load_ext autoreload\n",
    "%autoreload 2"
   ],
   "outputs": [],
   "execution_count": null
  },
  {
   "cell_type": "code",
   "id": "6bda59d4-24d0-498b-9450-86c5e2bd3b22",
   "metadata": {},
   "source": [
    "import numpy as np\n",
    "import matplotlib.pyplot as plt\n",
    "from tqdm import tqdm\n",
    "\n",
    "from pySPADS.processing.bridge import load_data\n",
    "from PyEMD import CEEMDAN, Visualisation\n",
    "\n",
    "tqdm.pandas()"
   ],
   "outputs": [],
   "execution_count": null
  },
  {
   "cell_type": "code",
   "source": [
    "combined = load_data()"
   ],
   "metadata": {
    "collapsed": false
   },
   "id": "b7d186a808bc895a",
   "outputs": [],
   "execution_count": null
  },
  {
   "cell_type": "code",
   "source": [
    "combined"
   ],
   "metadata": {
    "collapsed": false
   },
   "id": "e6620c7520bef676",
   "outputs": [],
   "execution_count": null
  },
  {
   "cell_type": "code",
   "source": [
    "trange = combined.index.max() - combined.index.min()"
   ],
   "metadata": {
    "collapsed": false
   },
   "id": "466669539d5ddef3",
   "outputs": [],
   "execution_count": null
  },
  {
   "cell_type": "markdown",
   "source": [
    "## CEEMD"
   ],
   "metadata": {
    "collapsed": false
   },
   "id": "f82007373fe82c37"
  },
  {
   "cell_type": "code",
   "source": [
    "# TODO - original code interpolates over NaNs in input data, check if we need to do that, or PyEMD is doing it"
   ],
   "metadata": {
    "collapsed": false
   },
   "id": "69c3712820096d52",
   "outputs": [],
   "execution_count": null
  },
  {
   "cell_type": "code",
   "source": [
    "# noise\n",
    "ns = np.arange(.1, .5, .05)\n",
    "ns = [.25]\n",
    "\n",
    "# number of ensembles\n",
    "NR = 100"
   ],
   "metadata": {
    "collapsed": false
   },
   "id": "db44b9c6b986c0d4",
   "outputs": [],
   "execution_count": null
  },
  {
   "cell_type": "code",
   "source": [
    "# TODO - unclear whether noise should be epsilon, or noise scale\n",
    "ceemd = CEEMDAN(trials=NR, epsilon=ns[0], processes=8, parallel=True)\n",
    "imfs = ceemd.ceemdan(combined['y'].to_numpy(), combined.index.to_numpy(), progress=True)"
   ],
   "metadata": {
    "collapsed": false
   },
   "id": "c9d17f853b3d2b7c",
   "outputs": [],
   "execution_count": null
  },
  {
   "cell_type": "code",
   "source": [
    "assert np.isnan(imfs).sum() == 0, 'NaNs in imfs'"
   ],
   "metadata": {
    "collapsed": false
   },
   "id": "b61aceea8ee93aa9",
   "outputs": [],
   "execution_count": null
  },
  {
   "cell_type": "code",
   "source": [
    "imfs.shape"
   ],
   "metadata": {
    "collapsed": false
   },
   "id": "b56d93876b8494d3",
   "outputs": [],
   "execution_count": null
  },
  {
   "cell_type": "code",
   "source": [
    "# Visualisation - expected output\n",
    "t = combined.index\n",
    "s = combined['y']\n",
    "\n",
    "plt.plot(t, s)\n",
    "plt.title('Shoreline vs. time')\n",
    "plt.show()"
   ],
   "metadata": {
    "collapsed": false
   },
   "id": "f97991d4273d05d7",
   "outputs": [],
   "execution_count": null
  },
  {
   "cell_type": "code",
   "source": [
    "imfs.shape"
   ],
   "metadata": {
    "collapsed": false
   },
   "id": "c69ebd58c9ab1ce9",
   "outputs": [],
   "execution_count": null
  },
  {
   "cell_type": "code",
   "source": [
    "freq = np.fft.rfftfreq(len(imfs[8,:]), d=1)"
   ],
   "metadata": {
    "collapsed": false
   },
   "id": "c71445aa1a61e7b5",
   "outputs": [],
   "execution_count": null
  },
  {
   "cell_type": "code",
   "source": [
    "x = np.fft.rfft(imfs[2,:])\n",
    "i = np.argmax(abs(x))\n",
    "print(i, freq[i])"
   ],
   "metadata": {
    "collapsed": false
   },
   "id": "7fe2bc86630f5e7d",
   "outputs": [],
   "execution_count": null
  },
  {
   "cell_type": "code",
   "source": [
    "plt.plot(abs(x))"
   ],
   "metadata": {
    "collapsed": false
   },
   "id": "59f9133b174354af",
   "outputs": [],
   "execution_count": null
  },
  {
   "cell_type": "code",
   "source": "from pySPADS.processing.significance import maxima",
   "metadata": {
    "collapsed": false
   },
   "id": "6f28e999bc644d05",
   "outputs": [],
   "execution_count": null
  },
  {
   "cell_type": "code",
   "source": [
    "# Approximate signal frequency - maxima per year\n",
    "for i in range(imfs.shape[0]):\n",
    "    print(i, maxima(imfs[i, :]), 365 * maxima(imfs[i,:]) / trange)"
   ],
   "metadata": {
    "collapsed": false
   },
   "id": "c20d356cfce99917",
   "outputs": [],
   "execution_count": null
  },
  {
   "cell_type": "code",
   "source": [
    "plt.plot(imfs[7,:])"
   ],
   "metadata": {
    "collapsed": false
   },
   "id": "88fc18ff4fad94df",
   "outputs": [],
   "execution_count": null
  },
  {
   "cell_type": "code",
   "source": [
    "Visualisation(ceemd).plot_imfs(imfs, t=combined.index.to_numpy())"
   ],
   "metadata": {
    "collapsed": false
   },
   "id": "5dcc9934811b909b",
   "outputs": [],
   "execution_count": null
  },
  {
   "cell_type": "code",
   "source": [
    "Visualisation(ceemd).plot_instant_freq(range(len(t)))"
   ],
   "metadata": {
    "collapsed": false
   },
   "id": "40ce9317fb210210",
   "outputs": [],
   "execution_count": null
  }
 ],
 "metadata": {
  "kernelspec": {
   "display_name": "Python 3 (ipykernel)",
   "language": "python",
   "name": "python3"
  },
  "language_info": {
   "codemirror_mode": {
    "name": "ipython",
    "version": 3
   },
   "file_extension": ".py",
   "mimetype": "text/x-python",
   "name": "python",
   "nbconvert_exporter": "python",
   "pygments_lexer": "ipython3",
   "version": "3.11.4"
  }
 },
 "nbformat": 4,
 "nbformat_minor": 5
}
