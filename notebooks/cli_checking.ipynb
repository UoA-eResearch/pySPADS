{
 "cells": [
  {
   "cell_type": "code",
   "execution_count": null,
   "id": "initial_id",
   "metadata": {
    "collapsed": true
   },
   "outputs": [],
   "source": [
    "%load_ext autoreload\n",
    "%autoreload 2"
   ]
  },
  {
   "cell_type": "code",
   "execution_count": null,
   "id": "385d99d090c4b92d",
   "metadata": {
    "collapsed": false
   },
   "outputs": [],
   "source": [
    "import pandas as pd\n",
    "import numpy as np"
   ]
  },
  {
   "cell_type": "code",
   "execution_count": null,
   "id": "64583011cc47ba7f",
   "metadata": {
    "collapsed": false
   },
   "outputs": [],
   "source": [
    "## Load input data"
   ]
  },
  {
   "cell_type": "code",
   "execution_count": null,
   "id": "cd1610d1c1fa8707",
   "metadata": {
    "collapsed": false
   },
   "outputs": [],
   "source": [
    "# Load data\n",
    "# TODO - note that we're not interpolating over gaps here\n",
    "from pySPADS.processing.bridge import (\n",
    "    load_shorecast,\n",
    "    load_hindcast,\n",
    "    load_SLP,\n",
    "    datetime_to_datenum,\n",
    ")\n",
    "\n",
    "shore_df = load_shorecast()\n",
    "hind_df = load_hindcast()\n",
    "pca_df = load_SLP()"
   ]
  },
  {
   "cell_type": "code",
   "execution_count": null,
   "id": "83e440a9eee22d3c",
   "metadata": {
    "collapsed": false
   },
   "outputs": [],
   "source": [
    "# Interpolate over NaNs in data\n",
    "def interpolate(df):\n",
    "    trange = list(range(df.index.min(), df.index.max() + 1))\n",
    "    return df.reindex(trange, fill_value=np.nan).interpolate(method=\"linear\")\n",
    "\n",
    "\n",
    "shore_df = interpolate(shore_df)\n",
    "hind_df = interpolate(hind_df)\n",
    "pca_df = interpolate(pca_df)"
   ]
  },
  {
   "cell_type": "markdown",
   "id": "48463a67e895ff44",
   "metadata": {
    "collapsed": false
   },
   "source": [
    "## Load test data and convert epoch time to datenum for plotting"
   ]
  },
  {
   "cell_type": "code",
   "execution_count": null,
   "id": "e9fd13eb78e27996",
   "metadata": {
    "collapsed": false
   },
   "outputs": [],
   "source": [
    "df = pd.read_csv(\"../data/run_output_test/reconstructed_total_df.csv\", index_col=0)"
   ]
  },
  {
   "cell_type": "code",
   "execution_count": null,
   "id": "78997dd084fc0d4d",
   "metadata": {
    "collapsed": false
   },
   "outputs": [],
   "source": [
    "import datetime\n",
    "from pySPADS.processing.recomposition import epoch_index_to_datetime\n",
    "\n",
    "df = epoch_index_to_datetime(df)\n",
    "df.set_index(df.index.map(datetime_to_datenum).map(int), inplace=True)"
   ]
  },
  {
   "cell_type": "code",
   "execution_count": null,
   "id": "f2b6f9a62d65cbd5",
   "metadata": {
    "collapsed": false
   },
   "outputs": [],
   "source": [
    "df"
   ]
  },
  {
   "cell_type": "code",
   "execution_count": null,
   "id": "e02e568014808229",
   "metadata": {
    "collapsed": false
   },
   "outputs": [],
   "source": [
    "df.index.map(datetime.datetime.fromtimestamp)"
   ]
  },
  {
   "cell_type": "code",
   "execution_count": null,
   "id": "1a14cf901b20b754",
   "metadata": {
    "collapsed": false
   },
   "outputs": [],
   "source": [
    "all(pd.to_datetime(df.index, unit=\"s\").map(datetime_to_datenum).map(int) == df[\"dn\"])"
   ]
  },
  {
   "cell_type": "code",
   "execution_count": null,
   "id": "63cd534e4f614f18",
   "metadata": {
    "collapsed": false
   },
   "outputs": [],
   "source": [
    "df"
   ]
  },
  {
   "cell_type": "markdown",
   "id": "1f38c64004e0a6fa",
   "metadata": {
    "collapsed": false
   },
   "source": [
    "## Plot test data vs input signal"
   ]
  },
  {
   "cell_type": "code",
   "execution_count": null,
   "id": "5f6610b3275fd514",
   "metadata": {
    "collapsed": false
   },
   "outputs": [],
   "source": [
    "from pySPADS.visualisation.paper import fig4\n",
    "\n",
    "fig = fig4(\n",
    "    shore_df[\"y\"],\n",
    "    df.set_index(\"dn\", drop=True).drop(columns=[\"dt\"]),\n",
    "    \"2010-01-01\",\n",
    "    \"2017-01-01\",\n",
    ")"
   ]
  },
  {
   "cell_type": "code",
   "execution_count": null,
   "id": "515c83605a72486a",
   "metadata": {
    "collapsed": false
   },
   "outputs": [],
   "source": []
  }
 ],
 "metadata": {
  "kernelspec": {
   "display_name": "Python 3",
   "language": "python",
   "name": "python3"
  },
  "language_info": {
   "codemirror_mode": {
    "name": "ipython",
    "version": 2
   },
   "file_extension": ".py",
   "mimetype": "text/x-python",
   "name": "python",
   "nbconvert_exporter": "python",
   "pygments_lexer": "ipython2",
   "version": "2.7.6"
  }
 },
 "nbformat": 4,
 "nbformat_minor": 5
}
