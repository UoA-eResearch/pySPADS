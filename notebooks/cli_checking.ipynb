{
 "cells": [
  {
   "cell_type": "code",
   "execution_count": null,
   "id": "initial_id",
   "metadata": {
    "collapsed": true
   },
   "outputs": [],
   "source": [
    "%load_ext autoreload\n",
    "%autoreload 2"
   ]
  },
  {
   "cell_type": "code",
   "outputs": [],
   "source": [
    "import pandas as pd\n",
    "import numpy as np\n",
    "import seaborn as sns"
   ],
   "metadata": {
    "collapsed": false
   },
   "id": "385d99d090c4b92d",
   "execution_count": null
  },
  {
   "cell_type": "code",
   "outputs": [],
   "source": [
    "## Load input data"
   ],
   "metadata": {
    "collapsed": false
   },
   "id": "64583011cc47ba7f"
  },
  {
   "cell_type": "code",
   "outputs": [],
   "source": [
    "# Load data\n",
    "# TODO - note that we're not interpolating over gaps here\n",
    "from processing.bridge import load_shorecast, load_hindcast, load_SLP, datenum_to_datetime, datetime_to_datenum\n",
    "\n",
    "shore_df = load_shorecast()\n",
    "hind_df = load_hindcast()\n",
    "pca_df = load_SLP()"
   ],
   "metadata": {
    "collapsed": false
   },
   "id": "cd1610d1c1fa8707",
   "execution_count": null
  },
  {
   "cell_type": "code",
   "outputs": [],
   "source": [
    "# Interpolate over NaNs in data\n",
    "def interpolate(df):\n",
    "    trange = list(range(df.index.min(), df.index.max() + 1))\n",
    "    return (\n",
    "        df\n",
    "        .reindex(trange, fill_value=np.nan)\n",
    "        .interpolate(method='linear')\n",
    "    )\n",
    "\n",
    "shore_df = interpolate(shore_df)\n",
    "hind_df = interpolate(hind_df)\n",
    "pca_df = interpolate(pca_df)"
   ],
   "metadata": {
    "collapsed": false
   },
   "id": "83e440a9eee22d3c",
   "execution_count": null
  },
  {
   "cell_type": "markdown",
   "source": [
    "## Load test data and convert epoch time to datenum for plotting"
   ],
   "metadata": {
    "collapsed": false
   },
   "id": "48463a67e895ff44"
  },
  {
   "cell_type": "code",
   "outputs": [],
   "source": [
    "df = pd.read_csv('../output_test/reconstructed_total_df.csv', index_col=0)"
   ],
   "metadata": {
    "collapsed": false
   },
   "id": "e9fd13eb78e27996",
   "execution_count": null
  },
  {
   "cell_type": "code",
   "outputs": [],
   "source": [
    "import datetime\n",
    "from processing.bridge import datetime_to_datenum\n",
    "\n",
    "df['dt'] = df.index\n",
    "df['dt'] = df['dt'].apply(datetime.datetime.fromtimestamp)\n",
    "df['dn'] = df['dt'].apply(datetime_to_datenum).apply(int)"
   ],
   "metadata": {
    "collapsed": false
   },
   "id": "78997dd084fc0d4d",
   "execution_count": null
  },
  {
   "cell_type": "markdown",
   "source": [
    "## Plot test data vs input signal"
   ],
   "metadata": {
    "collapsed": false
   },
   "id": "1f38c64004e0a6fa"
  },
  {
   "cell_type": "code",
   "outputs": [],
   "source": [
    "from visualisation.paper import fig4\n",
    "\n",
    "fig = fig4(shore_df['y'], df.set_index('dn', drop=True).drop(columns=['dt']), '2010-01-01', '2017-01-01')"
   ],
   "metadata": {
    "collapsed": false
   },
   "id": "5f6610b3275fd514",
   "execution_count": null
  }
 ],
 "metadata": {
  "kernelspec": {
   "display_name": "Python 3",
   "language": "python",
   "name": "python3"
  },
  "language_info": {
   "codemirror_mode": {
    "name": "ipython",
    "version": 2
   },
   "file_extension": ".py",
   "mimetype": "text/x-python",
   "name": "python",
   "nbconvert_exporter": "python",
   "pygments_lexer": "ipython2",
   "version": "2.7.6"
  }
 },
 "nbformat": 4,
 "nbformat_minor": 5
}
