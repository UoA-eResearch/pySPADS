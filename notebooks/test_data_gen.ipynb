{
 "cells": [
  {
   "cell_type": "code",
   "execution_count": null,
   "id": "initial_id",
   "metadata": {
    "collapsed": true
   },
   "outputs": [],
   "source": [
    "%load_ext autoreload\n",
    "%autoreload 2"
   ]
  },
  {
   "cell_type": "markdown",
   "id": "bcec5c7de314ae14",
   "metadata": {
    "collapsed": false
   },
   "source": [
    "### Create truncated imf data"
   ]
  },
  {
   "cell_type": "code",
   "execution_count": null,
   "id": "9347106187ed099b",
   "metadata": {
    "collapsed": false
   },
   "outputs": [],
   "source": [
    "import pandas as pd\n",
    "from pySPADS.root import ROOT_DIR\n",
    "from pySPADS.processing.data import parse_filename\n",
    "\n",
    "# Folder containing the result of running pySPADS decompose\n",
    "folder = ROOT_DIR / \"data\" / \"example_run\" / \"imfs\"  # TODO: update this if needed\n",
    "output_folder = ROOT_DIR / \"tests\" / \"data\" / \"imfs\"\n",
    "output_folder.mkdir(parents=True, exist_ok=True)\n",
    "\n",
    "for file in folder.glob(\"*.csv\"):\n",
    "    label, noise = parse_filename(file)\n",
    "\n",
    "    # Take only files with noise = 0.1\n",
    "    if noise != 0.1:\n",
    "        continue\n",
    "\n",
    "    # Load data and truncate\n",
    "    df = pd.read_csv(file, index_col=0)\n",
    "    df = df.iloc[:300, :]\n",
    "    df.to_csv(output_folder / file.name, index=True)"
   ]
  }
 ],
 "metadata": {
  "kernelspec": {
   "display_name": "Python 3",
   "language": "python",
   "name": "python3"
  },
  "language_info": {
   "codemirror_mode": {
    "name": "ipython",
    "version": 2
   },
   "file_extension": ".py",
   "mimetype": "text/x-python",
   "name": "python",
   "nbconvert_exporter": "python",
   "pygments_lexer": "ipython2",
   "version": "2.7.6"
  }
 },
 "nbformat": 4,
 "nbformat_minor": 5
}
