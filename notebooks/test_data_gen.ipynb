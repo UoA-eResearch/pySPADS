{
 "cells": [
  {
   "cell_type": "code",
   "execution_count": 1,
   "id": "initial_id",
   "metadata": {
    "collapsed": true,
    "ExecuteTime": {
     "end_time": "2024-01-23T03:55:51.853222900Z",
     "start_time": "2024-01-23T03:55:51.778587700Z"
    }
   },
   "outputs": [],
   "source": [
    "from pipeline.decompose import parse_filename\n",
    "%load_ext autoreload\n",
    "%autoreload 2"
   ]
  },
  {
   "cell_type": "markdown",
   "source": [
    "### Create truncated imf data"
   ],
   "metadata": {
    "collapsed": false
   },
   "id": "bcec5c7de314ae14"
  },
  {
   "cell_type": "code",
   "execution_count": 14,
   "outputs": [],
   "source": [
    "import pandas as pd\n",
    "from root import ROOT_DIR\n",
    "from pipeline.decompose import parse_filename\n",
    "\n",
    "# Folder containing the result of running pySPADS decompose\n",
    "folder = ROOT_DIR / 'data' / 'run_output_test' / 'imfs'  # TODO: update this if needed\n",
    "output_folder = ROOT_DIR / 'tests' / 'data' / 'imfs'\n",
    "output_folder.mkdir(parents=True, exist_ok=True)\n",
    "\n",
    "for file in folder.glob('*.csv'):\n",
    "    label, noise = parse_filename(file)\n",
    "    \n",
    "    # Take only files with noise = 0.1\n",
    "    if noise != 0.1:\n",
    "        continue\n",
    "        \n",
    "    # Load data and truncate\n",
    "    df = pd.read_csv(file, index_col=0)\n",
    "    df = df.iloc[:300, :]\n",
    "    df.to_csv(output_folder / file.name, index=True)"
   ],
   "metadata": {
    "collapsed": false,
    "ExecuteTime": {
     "end_time": "2024-01-23T04:03:45.308503Z",
     "start_time": "2024-01-23T04:03:44.420701600Z"
    }
   },
   "id": "9347106187ed099b"
  }
 ],
 "metadata": {
  "kernelspec": {
   "display_name": "Python 3",
   "language": "python",
   "name": "python3"
  },
  "language_info": {
   "codemirror_mode": {
    "name": "ipython",
    "version": 2
   },
   "file_extension": ".py",
   "mimetype": "text/x-python",
   "name": "python",
   "nbconvert_exporter": "python",
   "pygments_lexer": "ipython2",
   "version": "2.7.6"
  }
 },
 "nbformat": 4,
 "nbformat_minor": 5
}
